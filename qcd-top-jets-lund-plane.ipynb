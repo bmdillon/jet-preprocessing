{
 "cells": [
  {
   "cell_type": "code",
   "execution_count": 1,
   "metadata": {},
   "outputs": [],
   "source": [
    "import os\n",
    "import sys\n",
    "import numpy as np\n",
    "import pandas as pd\n",
    "from preprocess_qcd_top_jets import *"
   ]
  },
  {
   "cell_type": "code",
   "execution_count": 2,
   "metadata": {},
   "outputs": [],
   "source": [
    "from matplotlib import pyplot as plt\n",
    "from matplotlib.font_manager import FontProperties\n",
    "plt.rcParams[\"font.family\"] = \"Times New Roman\"\n",
    "plt.rcParams[\"mathtext.default\"] = \"rm\"\n",
    "plt.rcParams['text.usetex'] = True"
   ]
  },
  {
   "cell_type": "markdown",
   "metadata": {},
   "source": [
    "In this notebook I will demonstrate how to use the jet preprocessing code to convert the top jets from the top tagging challenge (https://arxiv.org/pdf/1902.09914.pdf) into the Lund plane representation."
   ]
  },
  {
   "cell_type": "markdown",
   "metadata": {},
   "source": [
    "Useful reference for the Lund jet plane: https://arxiv.org/pdf/1807.04758.pdf"
   ]
  },
  {
   "cell_type": "markdown",
   "metadata": {},
   "source": [
    "First I cluster the jets using the parameters used to define the jets.  This is just so that, if we wanted to, we could do some cross-checks etc, but it is not a required step.  It is required when we are looking at di-jet event data."
   ]
  },
  {
   "cell_type": "code",
   "execution_count": 3,
   "metadata": {},
   "outputs": [],
   "source": [
    "h5path = \"toptagging_train_short.h5\""
   ]
  },
  {
   "cell_type": "code",
   "execution_count": 4,
   "metadata": {},
   "outputs": [],
   "source": [
    "R=0.8\n",
    "p=-1\n",
    "jets, qcd_masses, top_masses = cluster_toptagging_dataset_part( h5path, R, p, [0,10000] )"
   ]
  },
  {
   "cell_type": "markdown",
   "metadata": {},
   "source": [
    "Below we plot the mass distribution calculated from (pT, eta, phi), which looks a little bit different than what we get using (E, px, py, pz) because we approximate the constituents to be massless."
   ]
  },
  {
   "cell_type": "code",
   "execution_count": 5,
   "metadata": {},
   "outputs": [
    {
     "data": {
      "image/png": "[encoded data removed]",
      "text/plain": [
       "<Figure size 432x288 with 1 Axes>"
      ]
     },
     "metadata": {
      "needs_background": "light"
     },
     "output_type": "display_data"
    }
   ],
   "source": [
    "plt.hist( qcd_masses, alpha=0.5, bins=20 )\n",
    "plt.hist( top_masses, alpha=0.5, bins=20 )\n",
    "plt.show()"
   ]
  },
  {
   "cell_type": "code",
   "execution_count": 6,
   "metadata": {},
   "outputs": [],
   "source": [
    "qcd_jets = jets['qcd']\n",
    "top_jets = jets['top']"
   ]
  },
  {
   "cell_type": "markdown",
   "metadata": {},
   "source": [
    "I now use the functions below to get the Lund representation for each jet.  This re-clusters the jets with C/A and then extracts the observables at each splitting."
   ]
  },
  {
   "cell_type": "code",
   "execution_count": 19,
   "metadata": {},
   "outputs": [],
   "source": [
    "R=1.5\n",
    "p=0\n",
    "qcd_lund_jets = []\n",
    "for jet in qcd_jets:\n",
    "    lund_jet = get_lund_history( jet, R, p )\n",
    "    lund_splittings = get_lund_splittings( lund_jet )\n",
    "    qcd_lund_jets.append( lund_splittings )\n",
    "top_lund_jets = []\n",
    "for jet in top_jets:\n",
    "    lund_jet = get_lund_history( jet, R, p )\n",
    "    lund_splittings = get_lund_splittings( lund_jet )\n",
    "    top_lund_jets.append( lund_splittings )"
   ]
  },
  {
   "cell_type": "markdown",
   "metadata": {},
   "source": [
    "A jet has a variable number of splittings, but and each splitting contains exactly 10 numbers.  These are:\n",
    "\n",
    "plane-id, $p_T$ of the subjet splitting, mass of the subjet splitting, mass drop, ratio of decay products in the splitting, $\\Delta R$, $\\log 1/\\Delta R$, $\\log k_T$, $z$, $\\kappa$."
   ]
  },
  {
   "cell_type": "code",
   "execution_count": 20,
   "metadata": {},
   "outputs": [
    {
     "name": "stdout",
     "output_type": "stream",
     "text": [
      "10\n",
      "[0, 648.2849126684138, 75.79339855239527, 0.7234214316376775, 0.010611746410134971, 5.623789943733319, -1.7270058038345415, 4.0237737776386275, 0.015287372530308289, 0.08597297190205275]\n"
     ]
    }
   ],
   "source": [
    "print( len(top_lund_jets[0][0]) )\n",
    "print( top_lund_jets[0][0] )"
   ]
  },
  {
   "cell_type": "code",
   "execution_count": 21,
   "metadata": {},
   "outputs": [],
   "source": [
    "qcd_lund_jets = np.array( qcd_lund_jets, dtype=object )\n",
    "top_lund_jets = np.array( top_lund_jets, dtype=object )"
   ]
  },
  {
   "cell_type": "code",
   "execution_count": 22,
   "metadata": {},
   "outputs": [
    {
     "data": {
      "image/png": "[encoded data removed]",
      "text/plain": [
       "<Figure size 432x288 with 1 Axes>"
      ]
     },
     "metadata": {
      "needs_background": "light"
     },
     "output_type": "display_data"
    }
   ],
   "source": [
    "plt.hist( [ np.max( [ i[2] for i in jet if i[0]==0 ] ) for jet in qcd_lund_jets ], alpha=0.5 )\n",
    "plt.hist( [ np.max( [ i[2] for i in jet if i[0]==0 ] ) for jet in top_lund_jets ], alpha=0.5 )\n",
    "plt.show()"
   ]
  },
  {
   "cell_type": "code",
   "execution_count": 23,
   "metadata": {},
   "outputs": [],
   "source": [
    "np.save( \"qcd_lund_jets.npy\", qcd_lund_jets )\n",
    "np.save( \"top_lund_jets.npy\", top_lund_jets )"
   ]
  },
  {
   "cell_type": "code",
   "execution_count": 24,
   "metadata": {},
   "outputs": [],
   "source": [
    "qcd_lund_jets = np.load( \"qcd_lund_jets.npy\", allow_pickle=True )\n",
    "top_lund_jets = np.load( \"top_lund_jets.npy\", allow_pickle=True )"
   ]
  },
  {
   "cell_type": "markdown",
   "metadata": {},
   "source": [
    "Now I want to separate the data into separate planes:"
   ]
  },
  {
   "cell_type": "code",
   "execution_count": 25,
   "metadata": {},
   "outputs": [],
   "source": [
    "def get_plane( lund_jet_sample, plane_id):\n",
    "    return [ [ [i[6],i[7]] for i in jet if i[0]==plane_id ] for jet in lund_jet_sample ]\n",
    "\n",
    "qcd_lund_0 = get_plane( qcd_lund_jets, 0)\n",
    "qcd_lund_1 = get_plane( qcd_lund_jets, 1)\n",
    "qcd_lund_2 = get_plane( qcd_lund_jets, 2)\n",
    "qcd_lund_3 = get_plane( qcd_lund_jets, 3)\n",
    "\n",
    "top_lund_0 = get_plane( top_lund_jets, 0)\n",
    "top_lund_1 = get_plane( top_lund_jets, 1)\n",
    "top_lund_2 = get_plane( top_lund_jets, 2)\n",
    "top_lund_3 = get_plane( top_lund_jets, 3)"
   ]
  },
  {
   "cell_type": "markdown",
   "metadata": {},
   "source": [
    "And then flatten the arrays so that we can look at the different densities for QCD vs top:"
   ]
  },
  {
   "cell_type": "code",
   "execution_count": 26,
   "metadata": {},
   "outputs": [],
   "source": [
    "def flatten( lund_jet_sample ):\n",
    "    jf = []\n",
    "    for jet in lund_jet_sample:\n",
    "        jf += jet\n",
    "    return jf\n",
    "\n",
    "qcd_lund_0_flat = flatten( qcd_lund_0 )\n",
    "qcd_lund_1_flat = flatten( qcd_lund_1 )\n",
    "qcd_lund_2_flat = flatten( qcd_lund_2 )\n",
    "qcd_lund_3_flat = flatten( qcd_lund_3 )\n",
    "\n",
    "top_lund_0_flat = flatten( top_lund_0 )\n",
    "top_lund_1_flat = flatten( top_lund_1 )\n",
    "top_lund_2_flat = flatten( top_lund_2 )\n",
    "top_lund_3_flat = flatten( top_lund_3 )"
   ]
  },
  {
   "cell_type": "markdown",
   "metadata": {},
   "source": [
    "And then plot:"
   ]
  },
  {
   "cell_type": "code",
   "execution_count": 40,
   "metadata": {},
   "outputs": [
    {
     "data": {
      "image/png": "[encoded data removed]",
      "text/plain": [
       "<Figure size 864x432 with 8 Axes>"
      ]
     },
     "metadata": {
      "needs_background": "light"
     },
     "output_type": "display_data"
    }
   ],
   "source": [
    "fig,axs = plt.subplots(2,4,figsize=(12,6))\n",
    "bins = (50,50)\n",
    "rnge = ((0,7),(-2,6))\n",
    "cmap = 'gist_heat_r'\n",
    "#cmap = 'BuGn'\n",
    "\n",
    "xt = [ i for i in range(rnge[0][0],rnge[0][1],1) ]\n",
    "yt = [ i for i in range(rnge[1][0],rnge[1][1]+1,1) ]\n",
    "\n",
    "labelfont = FontProperties()\n",
    "labelfont.set_family('serif')\n",
    "labelfont.set_name('Times New Roman')\n",
    "labelfont.set_size(20)\n",
    "\n",
    "axislabelfont = FontProperties()\n",
    "axislabelfont.set_family('serif')\n",
    "axislabelfont.set_name('Times New Roman')\n",
    "axislabelfont.set_size(24)\n",
    "\n",
    "tickfont = FontProperties()\n",
    "tickfont.set_family('serif')\n",
    "tickfont.set_name('Times New Roman')\n",
    "tickfont.set_size(20)\n",
    "\n",
    "def get_x( arr ):\n",
    "    return [ i[0] for i in arr ]\n",
    "def get_y( arr ):\n",
    "    return [ i[1] for i in arr ]\n",
    "\n",
    "axisfontsize = 18\n",
    "labelfontsize = 18\n",
    "axs[0,0].hist2d( get_x( qcd_lund_0_flat ), get_y( qcd_lund_0_flat ), bins=bins, range=rnge, cmap=cmap )\n",
    "axs[0,1].hist2d( get_x( qcd_lund_1_flat ), get_y( qcd_lund_1_flat ), bins=bins, range=rnge, cmap=cmap )\n",
    "axs[0,2].hist2d( get_x( qcd_lund_2_flat ), get_y( qcd_lund_2_flat ), bins=bins, range=rnge, cmap=cmap )\n",
    "axs[0,3].hist2d( get_x( qcd_lund_3_flat ), get_y( qcd_lund_3_flat ), bins=bins, range=rnge, cmap=cmap )\n",
    "axs[1,0].hist2d( get_x( top_lund_0_flat ), get_y( top_lund_0_flat ), bins=bins, range=rnge, cmap=cmap )\n",
    "axs[1,1].hist2d( get_x( top_lund_1_flat ), get_y( top_lund_1_flat ), bins=bins, range=rnge, cmap=cmap )\n",
    "axs[1,2].hist2d( get_x( top_lund_2_flat ), get_y( top_lund_2_flat ), bins=bins, range=rnge, cmap=cmap )\n",
    "axs[1,3].hist2d( get_x( top_lund_3_flat ), get_y( top_lund_3_flat ), bins=bins, range=rnge, cmap=cmap )\n",
    "axs[0,0].text( 6.5, 4.5,  \"primary\", va='top', ha='right', fontproperties=labelfont )\n",
    "axs[0,1].text( 6.5, 4.5,  \"secondary\", va='top', ha='right', fontproperties=labelfont )\n",
    "axs[0,2].text( 6.5, 4.5,  \"tertiary\", va='top', ha='right', fontproperties=labelfont )\n",
    "axs[0,3].text( 6.5, 4.5,  \"quaterniary\", va='top', ha='right', fontproperties=labelfont )\n",
    "axs[0,0].text( 6.5, 3.5,  \"QCD\", va='top', ha='right', fontproperties=labelfont )\n",
    "axs[0,1].text( 6.5, 3.5,  \"QCD\", va='top', ha='right', fontproperties=labelfont )\n",
    "axs[0,2].text( 6.5, 3.5,  \"QCD\", va='top', ha='right', fontproperties=labelfont )\n",
    "axs[0,3].text( 6.5, 3.5,  \"QCD\", va='top', ha='right', fontproperties=labelfont )\n",
    "axs[1,0].text( 6.5, 4.5,  \"primary\", va='top', ha='right', fontproperties=labelfont )\n",
    "axs[1,1].text( 6.5, 4.5,  \"secondary\", va='top', ha='right', fontproperties=labelfont )\n",
    "axs[1,2].text( 6.5, 4.5,  \"tertiary\", va='top', ha='right', fontproperties=labelfont )\n",
    "axs[1,3].text( 6.5, 4.5,  \"quaterniary\", va='top', ha='right', fontproperties=labelfont )\n",
    "axs[1,0].text( 6.5, 3.5,  \"top\", va='top', ha='right', fontproperties=labelfont )\n",
    "axs[1,1].text( 6.5, 3.5,  \"top\", va='top', ha='right', fontproperties=labelfont )\n",
    "axs[1,2].text( 6.5, 3.5,  \"top\", va='top', ha='right', fontproperties=labelfont )\n",
    "axs[1,3].text( 6.5, 3.5,  \"top\", va='top', ha='right', fontproperties=labelfont )\n",
    "axs[0,0].set_xticks( xt ) \n",
    "axs[0,1].set_xticks( xt ) \n",
    "axs[0,2].set_xticks( xt ) \n",
    "axs[0,3].set_xticks( xt ) \n",
    "axs[1,0].set_xticks( xt ) \n",
    "axs[1,1].set_xticks( xt ) \n",
    "axs[1,2].set_xticks( xt ) \n",
    "axs[1,3].set_xticks( xt )\n",
    "axs[0,0].set_yticks( yt ) \n",
    "axs[0,1].set_yticks( yt ) \n",
    "axs[0,2].set_yticks( yt ) \n",
    "axs[0,3].set_yticks( yt ) \n",
    "axs[1,0].set_yticks( yt ) \n",
    "axs[1,1].set_yticks( yt ) \n",
    "axs[1,2].set_yticks( yt ) \n",
    "axs[1,3].set_yticks( yt ) \n",
    "axs[1,0].set_xticklabels( xt, fontproperties=tickfont )\n",
    "axs[1,1].set_xticklabels( xt, fontproperties=tickfont )\n",
    "axs[1,2].set_xticklabels( xt, fontproperties=tickfont )\n",
    "axs[1,3].set_xticklabels( xt, fontproperties=tickfont )\n",
    "axs[0,0].set_yticklabels( yt, fontproperties=tickfont )\n",
    "axs[1,0].set_yticklabels( yt, fontproperties=tickfont )\n",
    "axs[0,0].set_xticklabels([])\n",
    "axs[0,1].set_xticklabels([])\n",
    "axs[0,2].set_xticklabels([])\n",
    "axs[0,3].set_xticklabels([])\n",
    "axs[0,1].set_yticklabels([])\n",
    "axs[0,2].set_yticklabels([])\n",
    "axs[0,3].set_yticklabels([])\n",
    "axs[1,1].set_yticklabels([])\n",
    "axs[1,2].set_yticklabels([])\n",
    "axs[1,3].set_yticklabels([])\n",
    "fig.text( -0.03, 0.5, r'$\\log k_T$', va='center', rotation='vertical', fontproperties=axislabelfont )\n",
    "fig.text( 0.5, -0.05, r'$\\log 1/\\Delta R$', ha='center', fontproperties=axislabelfont )\n",
    "fig.tight_layout()\n",
    "fig.savefig(\"qcd_top_all_lund.pdf\", bbox_inches = \"tight\")\n",
    "#fig.show()"
   ]
  },
  {
   "cell_type": "markdown",
   "metadata": {},
   "source": [
    "And then for single jets:"
   ]
  },
  {
   "cell_type": "code",
   "execution_count": 41,
   "metadata": {},
   "outputs": [
    {
     "data": {
      "image/png": "[encoded data removed]",
      "text/plain": [
       "<Figure size 864x432 with 8 Axes>"
      ]
     },
     "metadata": {
      "needs_background": "light"
     },
     "output_type": "display_data"
    }
   ],
   "source": [
    "fig,axs = plt.subplots(2,4,figsize=(12,6))\n",
    "bins = (25,25)\n",
    "rnge = ((0,7),(-2,6))\n",
    "cmap = 'gist_heat_r'\n",
    "#cmap = 'Greens'\n",
    "\n",
    "xt = range(rnge[0][0],rnge[0][1],1)\n",
    "yt = range(rnge[1][0],rnge[1][1]+1,1)\n",
    "\n",
    "labelfont = FontProperties()\n",
    "labelfont.set_family('serif')\n",
    "labelfont.set_name('Times New Roman')\n",
    "labelfont.set_size(20)\n",
    "\n",
    "axislabelfont = FontProperties()\n",
    "axislabelfont.set_family('serif')\n",
    "axislabelfont.set_name('Times New Roman')\n",
    "axislabelfont.set_size(24)\n",
    "\n",
    "tickfont = FontProperties()\n",
    "tickfont.set_family('serif')\n",
    "tickfont.set_name('Times New Roman')\n",
    "tickfont.set_size(20)\n",
    "\n",
    "eventi = 0\n",
    "\n",
    "axisfontsize = 18\n",
    "labelfontsize = 18\n",
    "axs[0,0].hist2d( get_x( qcd_lund_0[eventi] ), get_y( qcd_lund_0[eventi] ), bins=bins, range=rnge, cmap=cmap )\n",
    "axs[0,1].hist2d( get_x( qcd_lund_1[eventi] ), get_y( qcd_lund_1[eventi] ), bins=bins, range=rnge, cmap=cmap )\n",
    "axs[0,2].hist2d( get_x( qcd_lund_2[eventi] ), get_y( qcd_lund_2[eventi] ), bins=bins, range=rnge, cmap=cmap )\n",
    "axs[0,3].hist2d( get_x( qcd_lund_3[eventi] ), get_y( qcd_lund_3[eventi] ), bins=bins, range=rnge, cmap=cmap )\n",
    "axs[1,0].hist2d( get_x( top_lund_0[eventi] ), get_y( top_lund_0[eventi] ), bins=bins, range=rnge, cmap=cmap )\n",
    "axs[1,1].hist2d( get_x( top_lund_1[eventi] ), get_y( top_lund_1[eventi] ), bins=bins, range=rnge, cmap=cmap )\n",
    "axs[1,2].hist2d( get_x( top_lund_2[eventi] ), get_y( top_lund_2[eventi] ), bins=bins, range=rnge, cmap=cmap )\n",
    "axs[1,3].hist2d( get_x( top_lund_3[eventi] ), get_y( top_lund_3[eventi] ), bins=bins, range=rnge, cmap=cmap )\n",
    "axs[0,0].text( 6.5, 4.5,  \"primary\", va='top', ha='right', fontproperties=labelfont )\n",
    "axs[0,1].text( 6.5, 4.5,  \"secondary\", va='top', ha='right', fontproperties=labelfont )\n",
    "axs[0,2].text( 6.5, 4.5,  \"tertiary\", va='top', ha='right', fontproperties=labelfont )\n",
    "axs[0,3].text( 6.5, 4.5,  \"quaterniary\", va='top', ha='right', fontproperties=labelfont )\n",
    "axs[0,0].text( 6.5, 3.5,  \"QCD\", va='top', ha='right', fontproperties=labelfont )\n",
    "axs[0,1].text( 6.5, 3.5,  \"QCD\", va='top', ha='right', fontproperties=labelfont )\n",
    "axs[0,2].text( 6.5, 3.5,  \"QCD\", va='top', ha='right', fontproperties=labelfont )\n",
    "axs[0,3].text( 6.5, 3.5,  \"QCD\", va='top', ha='right', fontproperties=labelfont )\n",
    "axs[1,0].text( 6.5, 4.5,  \"primary\", va='top', ha='right', fontproperties=labelfont )\n",
    "axs[1,1].text( 6.5, 4.5,  \"secondary\", va='top', ha='right', fontproperties=labelfont )\n",
    "axs[1,2].text( 6.5, 4.5,  \"tertiary\", va='top', ha='right', fontproperties=labelfont )\n",
    "axs[1,3].text( 6.5, 4.5,  \"quaterniary\", va='top', ha='right', fontproperties=labelfont )\n",
    "axs[1,0].text( 6.5, 3.5,  \"top\", va='top', ha='right', fontproperties=labelfont )\n",
    "axs[1,1].text( 6.5, 3.5,  \"top\", va='top', ha='right', fontproperties=labelfont )\n",
    "axs[1,2].text( 6.5, 3.5,  \"top\", va='top', ha='right', fontproperties=labelfont )\n",
    "axs[1,3].text( 6.5, 3.5,  \"top\", va='top', ha='right', fontproperties=labelfont )\n",
    "axs[0,0].set_xticks( xt ) \n",
    "axs[0,1].set_xticks( xt ) \n",
    "axs[0,2].set_xticks( xt ) \n",
    "axs[0,3].set_xticks( xt ) \n",
    "axs[1,0].set_xticks( xt ) \n",
    "axs[1,1].set_xticks( xt ) \n",
    "axs[1,2].set_xticks( xt ) \n",
    "axs[1,3].set_xticks( xt )\n",
    "axs[0,0].set_yticks( yt ) \n",
    "axs[0,1].set_yticks( yt ) \n",
    "axs[0,2].set_yticks( yt ) \n",
    "axs[0,3].set_yticks( yt ) \n",
    "axs[1,0].set_yticks( yt ) \n",
    "axs[1,1].set_yticks( yt ) \n",
    "axs[1,2].set_yticks( yt ) \n",
    "axs[1,3].set_yticks( yt ) \n",
    "axs[1,0].set_xticklabels( xt, fontproperties=tickfont )\n",
    "axs[1,1].set_xticklabels( xt, fontproperties=tickfont )\n",
    "axs[1,2].set_xticklabels( xt, fontproperties=tickfont )\n",
    "axs[1,3].set_xticklabels( xt, fontproperties=tickfont )\n",
    "axs[0,0].set_yticklabels( yt, fontproperties=tickfont )\n",
    "axs[1,0].set_yticklabels( yt, fontproperties=tickfont )\n",
    "axs[0,0].set_xticklabels([])\n",
    "axs[0,1].set_xticklabels([])\n",
    "axs[0,2].set_xticklabels([])\n",
    "axs[0,3].set_xticklabels([])\n",
    "axs[0,1].set_yticklabels([])\n",
    "axs[0,2].set_yticklabels([])\n",
    "axs[0,3].set_yticklabels([])\n",
    "axs[1,1].set_yticklabels([])\n",
    "axs[1,2].set_yticklabels([])\n",
    "axs[1,3].set_yticklabels([])\n",
    "fig.text( -0.03, 0.5, r'$\\log k_T$', va='center', rotation='vertical', fontproperties=axislabelfont )\n",
    "fig.text( 0.5, -0.05, r'$\\log 1/\\Delta R$', ha='center', fontproperties=axislabelfont )\n",
    "fig.tight_layout()\n",
    "fig.savefig(\"qcd_top_single_lund.pdf\", bbox_inches = \"tight\")\n",
    "#fig.show()"
   ]
  },
  {
   "cell_type": "markdown",
   "metadata": {},
   "source": [
    "This code is now all summarised in constit2lund.py!"
   ]
  },
  {
   "cell_type": "markdown",
   "metadata": {},
   "source": [
    "I've run this on 10 jets, let's see what we got:"
   ]
  },
  {
   "cell_type": "code",
   "execution_count": 29,
   "metadata": {},
   "outputs": [],
   "source": [
    "qcd_test = np.load(\"qcd_lund_test.npy\", allow_pickle=True)\n",
    "top_test = np.load(\"top_lund_test.npy\", allow_pickle=True)"
   ]
  },
  {
   "cell_type": "code",
   "execution_count": 30,
   "metadata": {},
   "outputs": [],
   "source": [
    "sp = []\n",
    "for s in qcd_test[1]:\n",
    "    if s[0]==0:\n",
    "        sp.append([s[6],s[7]])"
   ]
  },
  {
   "cell_type": "code",
   "execution_count": 31,
   "metadata": {},
   "outputs": [],
   "source": [
    "def get_x( arr ):\n",
    "    return [ i[0] for i in arr ]\n",
    "def get_y( arr ):\n",
    "    return [ i[1] for i in arr ]"
   ]
  },
  {
   "cell_type": "code",
   "execution_count": 32,
   "metadata": {},
   "outputs": [
    {
     "data": {
      "image/png": "[encoded data removed]",
      "text/plain": [
       "<Figure size 432x288 with 1 Axes>"
      ]
     },
     "metadata": {
      "needs_background": "light"
     },
     "output_type": "display_data"
    }
   ],
   "source": [
    "plt.hist2d( get_x( sp ), get_y( sp ), bins=40, range=((0,7),(-2,5)) )\n",
    "plt.show()"
   ]
  },
  {
   "cell_type": "markdown",
   "metadata": {},
   "source": [
    "Comparing to the first plot in the first row of the image above, it looks right!"
   ]
  },
  {
   "cell_type": "code",
   "execution_count": null,
   "metadata": {},
   "outputs": [],
   "source": []
  }
 ],
 "metadata": {
  "kernelspec": {
   "display_name": "Python 3",
   "language": "python",
   "name": "python3"
  },
  "language_info": {
   "codemirror_mode": {
    "name": "ipython",
    "version": 3
   },
   "file_extension": ".py",
   "mimetype": "text/x-python",
   "name": "python",
   "nbconvert_exporter": "python",
   "pygments_lexer": "ipython3",
   "version": "3.8.2"
  }
 },
 "nbformat": 4,
 "nbformat_minor": 4
}
