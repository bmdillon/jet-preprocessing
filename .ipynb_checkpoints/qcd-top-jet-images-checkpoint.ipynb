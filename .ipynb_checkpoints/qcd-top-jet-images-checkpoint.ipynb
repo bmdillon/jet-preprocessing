{
 "cells": [
  {
   "cell_type": "code",
   "execution_count": 1,
   "metadata": {},
   "outputs": [],
   "source": [
    "import os\n",
    "import sys\n",
    "import numpy as np\n",
    "import pandas as pd"
   ]
  },
  {
   "cell_type": "code",
   "execution_count": 2,
   "metadata": {},
   "outputs": [],
   "source": [
    "from matplotlib import pyplot as plt\n",
    "from matplotlib.font_manager import FontProperties\n",
    "from matplotlib import colors\n",
    "plt.rcParams[\"font.family\"] = \"Times New Roman\"\n",
    "plt.rcParams[\"mathtext.default\"] = \"rm\"\n",
    "plt.rcParams['text.usetex'] = True"
   ]
  },
  {
   "cell_type": "markdown",
   "metadata": {},
   "source": [
    "In this notebook I will demonstrate how to convert the QCD and top jets from the top tagging challenge (https://arxiv.org/pdf/1902.09914.pdf) into the jet image representation.\n",
    "\n",
    "This is following the procedure outlined in https://arxiv.org/abs/1808.08979v3 and uses code written by Christof Sauer using code from that project.\n",
    "\n",
    "Much of this could be re-done using sklearn functions, e.g. the steps putting the image on a grid could be done with KBinsDiscretizer.  For the future maybe."
   ]
  },
  {
   "cell_type": "markdown",
   "metadata": {},
   "source": [
    "Defining the max number constituents kept for each jet:"
   ]
  },
  {
   "cell_type": "code",
   "execution_count": 3,
   "metadata": {},
   "outputs": [],
   "source": [
    "n_constit = 200"
   ]
  },
  {
   "cell_type": "markdown",
   "metadata": {},
   "source": [
    "The path to the raw data:"
   ]
  },
  {
   "cell_type": "code",
   "execution_count": 4,
   "metadata": {},
   "outputs": [],
   "source": [
    "h5path = \"toptagging_train_short.h5\""
   ]
  },
  {
   "cell_type": "markdown",
   "metadata": {},
   "source": [
    "Select the jets:"
   ]
  },
  {
   "cell_type": "code",
   "execution_count": 5,
   "metadata": {},
   "outputs": [],
   "source": [
    "df = pd.read_hdf( h5path, key='table', start=0, stop=10000)"
   ]
  },
  {
   "cell_type": "markdown",
   "metadata": {},
   "source": [
    "We need the names of the columns in the table so we can select them later:"
   ]
  },
  {
   "cell_type": "code",
   "execution_count": 6,
   "metadata": {},
   "outputs": [],
   "source": [
    "feat_list =  [\"E\",\"PX\",\"PY\",\"PZ\"] \n",
    "cols = [\"{0}_{1}\".format(feature,constit) for feature in feat_list for constit in range(n_constit)]"
   ]
  },
  {
   "cell_type": "code",
   "execution_count": 7,
   "metadata": {},
   "outputs": [
    {
     "data": {
      "text/plain": [
       "['E_0', 'E_1', 'E_2', 'E_3', 'E_4', 'E_5', 'E_6', 'E_7', 'E_8', 'E_9']"
      ]
     },
     "execution_count": 7,
     "metadata": {},
     "output_type": "execute_result"
    }
   ],
   "source": [
    "cols[0:10]"
   ]
  },
  {
   "cell_type": "markdown",
   "metadata": {},
   "source": [
    "Now we re-shape the jet from a list of 4-momentum components to 4 lists, one for each component:"
   ]
  },
  {
   "cell_type": "code",
   "execution_count": 8,
   "metadata": {},
   "outputs": [],
   "source": [
    "vec4 = np.expand_dims(df[cols],axis=-1).reshape(-1, len(feat_list), n_constit)"
   ]
  },
  {
   "cell_type": "code",
   "execution_count": 9,
   "metadata": {},
   "outputs": [
    {
     "data": {
      "text/plain": [
       "(10000, 4, 200)"
      ]
     },
     "execution_count": 9,
     "metadata": {},
     "output_type": "execute_result"
    }
   ],
   "source": [
    "vec4.shape"
   ]
  },
  {
   "cell_type": "markdown",
   "metadata": {},
   "source": [
    "If we do this for N jets, the shape is ( N, 4, 200 )"
   ]
  },
  {
   "cell_type": "markdown",
   "metadata": {},
   "source": [
    "We now want to extract the column telling us whether we have a signal or background event:"
   ]
  },
  {
   "cell_type": "code",
   "execution_count": 10,
   "metadata": {},
   "outputs": [],
   "source": [
    "isig = df[\"is_signal_new\"]"
   ]
  },
  {
   "cell_type": "code",
   "execution_count": 11,
   "metadata": {},
   "outputs": [
    {
     "data": {
      "text/plain": [
       "375    0\n",
       "377    0\n",
       "378    0\n",
       "379    0\n",
       "380    0\n",
       "      ..\n",
       "597    0\n",
       "598    0\n",
       "600    0\n",
       "602    0\n",
       "603    0\n",
       "Name: is_signal_new, Length: 10000, dtype: int64"
      ]
     },
     "execution_count": 11,
     "metadata": {},
     "output_type": "execute_result"
    }
   ],
   "source": [
    "isig"
   ]
  },
  {
   "cell_type": "markdown",
   "metadata": {},
   "source": [
    "The 0 means we have a background event"
   ]
  },
  {
   "cell_type": "markdown",
   "metadata": {},
   "source": [
    "We now separate the 4-momentum components of the consituents for all jets:"
   ]
  },
  {
   "cell_type": "code",
   "execution_count": 13,
   "metadata": {},
   "outputs": [],
   "source": [
    "E  = vec4[:,0,:]\n",
    "pxs   = vec4[:,1,:]\n",
    "pys   = vec4[:,2,:]\n",
    "pzs   = vec4[:,3,:]"
   ]
  },
  {
   "cell_type": "code",
   "execution_count": 14,
   "metadata": {},
   "outputs": [
    {
     "name": "stdout",
     "output_type": "stream",
     "text": [
      "(10000, 200)\n",
      "(10000, 200)\n",
      "(10000, 200)\n",
      "(10000, 200)\n"
     ]
    }
   ],
   "source": [
    "print(E.shape)\n",
    "print(pxs.shape)\n",
    "print(pys.shape)\n",
    "print(pzs.shape)"
   ]
  },
  {
   "cell_type": "markdown",
   "metadata": {},
   "source": [
    "Again, for N events we would have ( N, 200 ) where 200 is the number of constituents."
   ]
  },
  {
   "cell_type": "markdown",
   "metadata": {},
   "source": [
    "Calculating the pT"
   ]
  },
  {
   "cell_type": "code",
   "execution_count": 15,
   "metadata": {},
   "outputs": [],
   "source": [
    "pT = np.sqrt( pxs**2 + pys**2 )"
   ]
  },
  {
   "cell_type": "code",
   "execution_count": 16,
   "metadata": {},
   "outputs": [
    {
     "name": "stdout",
     "output_type": "stream",
     "text": [
      "(10000, 200)\n"
     ]
    }
   ],
   "source": [
    "print(pT.shape)"
   ]
  },
  {
   "cell_type": "markdown",
   "metadata": {},
   "source": [
    "We now want to calculate the etas and phis, so we define these functions:"
   ]
  },
  {
   "cell_type": "code",
   "execution_count": 17,
   "metadata": {},
   "outputs": [],
   "source": [
    "# Calculate pseudorapidity of pixel entries\n",
    "def eta(pT, pz):\n",
    "    small = 1e-10\n",
    "    small_pT = (np.abs(pT) < small)\n",
    "    small_pz = (np.abs(pz) < small)\n",
    "    not_small = ~(small_pT | small_pz)\n",
    "    theta = np.arctan(pT[not_small]/pz[not_small])\n",
    "    theta[theta < 0] += np.pi\n",
    "    etas = np.zeros_like(pT)\n",
    "    etas[small_pz] = 0\n",
    "    etas[small_pT] = 1e-10\n",
    "    etas[not_small] = np.log(np.tan(theta/2))\n",
    "    return etas\n",
    "\n",
    "# Calculate phi of the pixel entries (in range [-pi,pi])\n",
    "# phis are returned in radians, np.arctan(0,0)=0 -> zero constituents set to -np.pi\n",
    "def phi (px, py):\n",
    "    phis = np.arctan2(py,px)\n",
    "    phis[phis < 0] += 2*np.pi\n",
    "    phis[phis > 2*np.pi] -= 2*np.pi\n",
    "    phis = phis - np.pi \n",
    "    return phis\n",
    "\n",
    "# Calculate the mass from the 4-momentum\n",
    "def mass (E,px,py,pz):\n",
    "    mass = np.sqrt(np.maximum(0.,E**2-px**2-py**2-pz**2))\n",
    "    return mass"
   ]
  },
  {
   "cell_type": "markdown",
   "metadata": {},
   "source": [
    "Calculate the etas and phis:"
   ]
  },
  {
   "cell_type": "code",
   "execution_count": 18,
   "metadata": {},
   "outputs": [],
   "source": [
    "etas  = eta(pT,pzs)\n",
    "phis  = phi(pxs,pys)"
   ]
  },
  {
   "cell_type": "code",
   "execution_count": 19,
   "metadata": {},
   "outputs": [
    {
     "name": "stdout",
     "output_type": "stream",
     "text": [
      "(10000, 200)\n",
      "(10000, 200)\n"
     ]
    }
   ],
   "source": [
    "print(etas.shape) \n",
    "print(phis.shape)"
   ]
  },
  {
   "cell_type": "markdown",
   "metadata": {},
   "source": [
    "Now we calculate the kinematics of the whole jets by summing across the constituents:"
   ]
  },
  {
   "cell_type": "code",
   "execution_count": 20,
   "metadata": {},
   "outputs": [],
   "source": [
    "E_tot = E.sum(axis=1)\n",
    "px_tot = pxs.sum(axis=1)\n",
    "py_tot = pys.sum(axis=1)\n",
    "pz_tot = pzs.sum(axis=1)\n",
    "j_mass = mass(E_tot, px_tot, py_tot, pz_tot)"
   ]
  },
  {
   "cell_type": "code",
   "execution_count": 21,
   "metadata": {},
   "outputs": [
    {
     "name": "stdout",
     "output_type": "stream",
     "text": [
      "(10000,)\n",
      "(10000,)\n",
      "(10000,)\n",
      "(10000,)\n",
      "(10000,)\n"
     ]
    }
   ],
   "source": [
    "print(E_tot.shape)\n",
    "print(px_tot.shape)\n",
    "print(py_tot.shape)\n",
    "print(pz_tot.shape)\n",
    "print(j_mass.shape)"
   ]
  },
  {
   "cell_type": "markdown",
   "metadata": {},
   "source": [
    "We can now plot the first two jets, the axis are eta vs phi, and the cells contain the pT:"
   ]
  },
  {
   "cell_type": "code",
   "execution_count": 22,
   "metadata": {},
   "outputs": [
    {
     "data": {
      "image/png": "[encoded data removed]",
      "text/plain": [
       "<Figure size 720x216 with 2 Axes>"
      ]
     },
     "metadata": {
      "needs_background": "light"
     },
     "output_type": "display_data"
    }
   ],
   "source": [
    "fig, axs = plt.subplots( 1, 2, figsize=(10,3) )\n",
    "rnge = ( ( 0 , 1 ), ( -np.pi , np.pi ) )\n",
    "axs[0].hist2d( etas[0], phis[0], weights=pT[0], bins=40, cmap='gist_heat_r', range=rnge )\n",
    "axs[1].hist2d( etas[1], phis[1], weights=pT[1], bins=40, cmap='gist_heat_r', range=rnge )\n",
    "fig.tight_layout()"
   ]
  },
  {
   "cell_type": "markdown",
   "metadata": {},
   "source": [
    "Jets can be produced at any value of phi, so we would like to remove this degenracy from the images.  We do this by first subtracting from the phi component of each constituent of a jet, the phi component of the highest pT component of the jet.  In this way it will be centred at phi=0."
   ]
  },
  {
   "cell_type": "markdown",
   "metadata": {},
   "source": [
    "The constituents are pT ordered, so phis[:,0] returns the phi values of the highest pT constituents of each jet:"
   ]
  },
  {
   "cell_type": "code",
   "execution_count": 23,
   "metadata": {},
   "outputs": [
    {
     "name": "stdout",
     "output_type": "stream",
     "text": [
      "(10000,)\n",
      "[ 0.72913885 -2.5722082   1.6413395  ...  2.8152578  -1.1202879\n",
      "  0.3790486 ]\n"
     ]
    }
   ],
   "source": [
    "print(phis[:,0].shape)\n",
    "print(phis[:,0])"
   ]
  },
  {
   "cell_type": "markdown",
   "metadata": {},
   "source": [
    "So we want to subtract these for each jet.  Now since this can knock some constituents outside of the [-pi,pi] range we need to being them back in using the fact that phi=+pi = phi=-pi."
   ]
  },
  {
   "cell_type": "code",
   "execution_count": 24,
   "metadata": {},
   "outputs": [],
   "source": [
    "phis = (phis.T - phis[:,0]).T\n",
    "phis[phis < -np.pi] += 2*np.pi\n",
    "phis[phis > np.pi] -= 2*np.pi"
   ]
  },
  {
   "cell_type": "code",
   "execution_count": 25,
   "metadata": {},
   "outputs": [
    {
     "data": {
      "image/png": "[encoded data removed]",
      "text/plain": [
       "<Figure size 720x216 with 2 Axes>"
      ]
     },
     "metadata": {
      "needs_background": "light"
     },
     "output_type": "display_data"
    }
   ],
   "source": [
    "fig, axs = plt.subplots( 1, 2, figsize=(10,3) )\n",
    "rnge = ( ( 0 , 1 ), ( -np.pi , np.pi ) )\n",
    "axs[0].hist2d( etas[0], phis[0], weights=pT[0], bins=40, cmap='gist_heat_r', range=rnge )\n",
    "axs[1].hist2d( etas[1], phis[1], weights=pT[1], bins=40, cmap='gist_heat_r', range=rnge )\n",
    "fig.tight_layout()"
   ]
  },
  {
   "cell_type": "markdown",
   "metadata": {},
   "source": [
    "Let's zoom in:"
   ]
  },
  {
   "cell_type": "code",
   "execution_count": 26,
   "metadata": {},
   "outputs": [
    {
     "data": {
      "image/png": "[encoded data removed]",
      "text/plain": [
       "<Figure size 720x216 with 2 Axes>"
      ]
     },
     "metadata": {
      "needs_background": "light"
     },
     "output_type": "display_data"
    }
   ],
   "source": [
    "fig, axs = plt.subplots( 1, 2, figsize=(10,3) )\n",
    "rnge = ( ( 0 , 1 ), ( -np.pi/5 , np.pi/5 ) )\n",
    "axs[0].hist2d( etas[0], phis[0], weights=pT[0], bins=40, cmap='gist_heat_r', range=rnge )\n",
    "axs[1].hist2d( etas[1], phis[1], weights=pT[1], bins=40, cmap='gist_heat_r', range=rnge )\n",
    "fig.tight_layout()"
   ]
  },
  {
   "cell_type": "markdown",
   "metadata": {},
   "source": [
    "Next we need to centre, rotate, and flip the image."
   ]
  },
  {
   "cell_type": "markdown",
   "metadata": {},
   "source": [
    "First the centre.  We calculate the centroid in the x (eta) and y (phi) and shift the image so that the centroids are at (x,y)=(0,0).  We use x and y now because we're losing the direct interpretation of these as eta and phi.  There is a general definition of the centroid calculated with the moment of the image, given here:"
   ]
  },
  {
   "cell_type": "code",
   "execution_count": 27,
   "metadata": {},
   "outputs": [],
   "source": [
    "# returns image momenta for the centroid and principal axis\n",
    "def img_mom (x, y, weights, x_power, y_power):\n",
    "    return ((x**x_power)*(y**y_power)*weights).sum()"
   ]
  },
  {
   "cell_type": "markdown",
   "metadata": {},
   "source": [
    "We then calculate this using the pT rather than the mass as the weight, and centre:"
   ]
  },
  {
   "cell_type": "code",
   "execution_count": 28,
   "metadata": {},
   "outputs": [],
   "source": [
    "def centre_jet(x, y, weights):\n",
    "    x_centroid = img_mom(x, y, weights, 1, 0) / weights.sum()\n",
    "    y_centroid = img_mom(x, y, weights, 0, 1)/ weights.sum()\n",
    "    x = x - x_centroid\n",
    "    y = y - y_centroid\n",
    "    return x, y"
   ]
  },
  {
   "cell_type": "code",
   "execution_count": 29,
   "metadata": {},
   "outputs": [],
   "source": [
    "for i in range(vec4.shape[0]):\n",
    "    etas[i,:], phis[i,:] = centre_jet( etas[i,:], phis[i,:], pT[i,:] )"
   ]
  },
  {
   "cell_type": "markdown",
   "metadata": {},
   "source": [
    "Now plot again to see the progression:"
   ]
  },
  {
   "cell_type": "code",
   "execution_count": 30,
   "metadata": {},
   "outputs": [
    {
     "data": {
      "image/png": "[encoded data removed]",
      "text/plain": [
       "<Figure size 720x216 with 2 Axes>"
      ]
     },
     "metadata": {
      "needs_background": "light"
     },
     "output_type": "display_data"
    }
   ],
   "source": [
    "fig, axs = plt.subplots( 1, 2, figsize=(10,3) )\n",
    "rnge = ( ( -0.2 , 0.2 ), ( -np.pi/5 , np.pi/5 ) )\n",
    "axs[0].hist2d( etas[0], phis[0], weights=pT[0], bins=40, cmap='gist_heat_r', range=rnge )\n",
    "axs[1].hist2d( etas[1], phis[1], weights=pT[1], bins=40, cmap='gist_heat_r', range=rnge )\n",
    "fig.tight_layout()"
   ]
  },
  {
   "cell_type": "markdown",
   "metadata": {},
   "source": [
    "Next we rotate the jet so that the principle axis points in the direction of increasing pseudo-rapidity (vertically):"
   ]
  },
  {
   "cell_type": "code",
   "execution_count": 31,
   "metadata": {},
   "outputs": [],
   "source": [
    "def rotate_jet(x, y, weights):\n",
    "    # Covariant matrix, eigenvectors corr. to principal axis\n",
    "    u11 = img_mom(x, y, weights, 1, 1) / weights.sum()\n",
    "    u20 = img_mom(x, y, weights, 2, 0) / weights.sum()\n",
    "    u02 = img_mom(x, y, weights, 0, 2) / weights.sum()\n",
    "    cov = np.array([[u20, u11], [u11, u02]])\n",
    "    # Eigenvalues and eigenvectors of covariant matrix\n",
    "    evals, evecs = np.linalg.eig(cov)\n",
    "    # Sorts the eigenvalues, v1, [::-1] turns array around, \n",
    "    sort_indices = np.argsort(evals)[::-1]\n",
    "    e_1 = evecs[:, sort_indices[0]]  # Eigenvector with largest eigenvalue\n",
    "    e_2 = evecs[:, sort_indices[1]]\n",
    "    # Theta to x_axis, arctan2 gives correct angle\n",
    "    theta = np.arctan2(e_1[0], e_1[1])\n",
    "    # Rotation, so that princple axis is vertical\n",
    "    # Anti-clockwise rotation matrix\n",
    "    rotation = np.matrix([[np.cos(theta), -np.sin(theta)], [np.sin(theta), np.cos(theta)]])\n",
    "    transformed_mat = rotation * np.stack([x,y])\n",
    "    x_rot, y_rot = transformed_mat.A\n",
    "    return x_rot, y_rot"
   ]
  },
  {
   "cell_type": "code",
   "execution_count": 32,
   "metadata": {},
   "outputs": [],
   "source": [
    "for i in range(vec4.shape[0]):\n",
    "    etas[i,:], phis[i,:] = rotate_jet( etas[i,:], phis[i,:], pT[i,:] )"
   ]
  },
  {
   "cell_type": "code",
   "execution_count": 33,
   "metadata": {},
   "outputs": [
    {
     "data": {
      "image/png": "[encoded data removed]",
      "text/plain": [
       "<Figure size 720x216 with 2 Axes>"
      ]
     },
     "metadata": {
      "needs_background": "light"
     },
     "output_type": "display_data"
    }
   ],
   "source": [
    "fig, axs = plt.subplots( 1, 2, figsize=(10,3) )\n",
    "rnge = ( ( -0.2 , 0.2 ), ( -np.pi/5 , np.pi/5 ) )\n",
    "axs[0].hist2d( etas[0], phis[0], weights=pT[0], bins=40, cmap='gist_heat_r', range=rnge )\n",
    "axs[1].hist2d( etas[1], phis[1], weights=pT[1], bins=40, cmap='gist_heat_r', range=rnge )\n",
    "fig.tight_layout()"
   ]
  },
  {
   "cell_type": "markdown",
   "metadata": {},
   "source": [
    "Lastly we need to flip the jet so that the plane with the most pT is on one side."
   ]
  },
  {
   "cell_type": "code",
   "execution_count": 34,
   "metadata": {},
   "outputs": [],
   "source": [
    "def flip_jet(x, y, weights):\n",
    "    if weights[x<0.].sum() < weights[x>0.].sum():\n",
    "        x = -x\n",
    "    if weights[y<0.].sum() > weights[y>0.].sum():\n",
    "        y = -y\n",
    "    return x,y "
   ]
  },
  {
   "cell_type": "code",
   "execution_count": 35,
   "metadata": {},
   "outputs": [],
   "source": [
    "for i in range(vec4.shape[0]):\n",
    "    etas[i,:], phis[i,:] = flip_jet( etas[i,:], phis[i,:], pT[i,:] )"
   ]
  },
  {
   "cell_type": "code",
   "execution_count": 36,
   "metadata": {},
   "outputs": [
    {
     "data": {
      "image/png": "[encoded data removed]",
      "text/plain": [
       "<Figure size 720x216 with 2 Axes>"
      ]
     },
     "metadata": {
      "needs_background": "light"
     },
     "output_type": "display_data"
    }
   ],
   "source": [
    "fig, axs = plt.subplots( 1, 2, figsize=(10,3) )\n",
    "rnge = ( ( -0.2 , 0.2 ), ( -np.pi/5 , np.pi/5 ) )\n",
    "axs[0].hist2d( etas[0], phis[0], weights=pT[0], bins=40, cmap='gist_heat_r', range=rnge )\n",
    "axs[1].hist2d( etas[1], phis[1], weights=pT[1], bins=40, cmap='gist_heat_r', range=rnge )\n",
    "fig.tight_layout()"
   ]
  },
  {
   "cell_type": "markdown",
   "metadata": {},
   "source": [
    "Now I want to plot a histogram for both of these two jets here:"
   ]
  },
  {
   "cell_type": "code",
   "execution_count": 37,
   "metadata": {},
   "outputs": [
    {
     "data": {
      "image/png": "[encoded data removed]",
      "text/plain": [
       "<Figure size 360x216 with 1 Axes>"
      ]
     },
     "metadata": {
      "needs_background": "light"
     },
     "output_type": "display_data"
    }
   ],
   "source": [
    "fig, axs = plt.subplots( 1, 1, figsize=(5,3) )\n",
    "rnge = ( ( -0.2 , 0.2 ), ( -np.pi/5 , np.pi/5 ) )\n",
    "#axs.hist2d( etas.reshape(-1), phis.reshape(-1), weights=pT.reshape(-1), bins=40, cmap='gist_heat_r', range=rnge, norm=colors.LogNorm() )\n",
    "axs.hist2d( etas.reshape(-1), phis.reshape(-1), weights=pT.reshape(-1), bins=40, cmap='gist_heat_r', range=rnge )\n",
    "fig.tight_layout()"
   ]
  },
  {
   "cell_type": "markdown",
   "metadata": {},
   "source": [
    "The re-shape basically concatenates the constituents for all jets together:"
   ]
  },
  {
   "cell_type": "code",
   "execution_count": 38,
   "metadata": {},
   "outputs": [
    {
     "data": {
      "text/plain": [
       "(2000000,)"
      ]
     },
     "execution_count": 38,
     "metadata": {},
     "output_type": "execute_result"
    }
   ],
   "source": [
    "etas.reshape(-1).shape"
   ]
  },
  {
   "cell_type": "markdown",
   "metadata": {},
   "source": [
    "This looks odd, but we've averaged over both top and QCD jets, in approximately equal proportions.  So we'll see what it's like at the end once we split it up."
   ]
  },
  {
   "cell_type": "markdown",
   "metadata": {},
   "source": [
    "Now we need to create the image and pixelize etc.  We start by defining the grid we're using and a function:"
   ]
  },
  {
   "cell_type": "code",
   "execution_count": 39,
   "metadata": {},
   "outputs": [],
   "source": [
    "# Grid settings\n",
    "xpixels = np.arange(-2.6, 2.6, 0.029)\n",
    "ypixels = np.arange(-np.pi, np.pi, 0.035)"
   ]
  },
  {
   "cell_type": "code",
   "execution_count": 40,
   "metadata": {},
   "outputs": [],
   "source": [
    "# Put eta-phi entries on grid\n",
    "def orig_image (etas, phis, es):\n",
    "    # gives the value on grid with minimal distance,\n",
    "    # eg. for xpixel = (0,1,2,3,..) eta=1.3 -> xpixel=1, eta=1.6 ->xpixel=2\n",
    "    # first define the grid full of zeros\n",
    "    z = np.zeros( ( etas.shape[0], len(xpixels), len(ypixels) ) )\n",
    "    # now we want a vector telling us if a point is in the grid\n",
    "    in_grid = ~((etas < xpixels[0]) | (etas > xpixels[-1]) | (phis < ypixels[0]) | (phis > ypixels[-1]))\n",
    "    # for each eta and phi we now find the cell on the grid that is closest to the actual coordinate\n",
    "    xcoords = np.argmin( np.abs( etas[:,None,:] - xpixels[None,:,None] ), axis=1 )\n",
    "    ycoords = np.argmin( np.abs( phis[:,None,:] - ypixels[None,:,None] ), axis=1 )\n",
    "    # create a grid where each row is filled with the event number\n",
    "    ncoords = np.repeat( np.arange( etas.shape[0])[:,None], etas.shape[1], axis=1 )\n",
    "    # create a single array for all images, for each jet there is a 180x180 matrix\n",
    "    z[ ncoords[in_grid], ycoords[in_grid], xcoords[in_grid] ] = es[in_grid]\n",
    "    return z"
   ]
  },
  {
   "cell_type": "code",
   "execution_count": 228,
   "metadata": {},
   "outputs": [
    {
     "data": {
      "text/plain": [
       "(10000, 1, 200)"
      ]
     },
     "execution_count": 228,
     "metadata": {},
     "output_type": "execute_result"
    }
   ],
   "source": [
    "etas[:,None,:].shape"
   ]
  },
  {
   "cell_type": "code",
   "execution_count": 227,
   "metadata": {},
   "outputs": [
    {
     "data": {
      "text/plain": [
       "(1, 180, 1)"
      ]
     },
     "execution_count": 227,
     "metadata": {},
     "output_type": "execute_result"
    }
   ],
   "source": [
    "xpixels[None,:,None].shape"
   ]
  },
  {
   "cell_type": "code",
   "execution_count": 230,
   "metadata": {},
   "outputs": [
    {
     "data": {
      "text/plain": [
       "(10000, 180, 200)"
      ]
     },
     "execution_count": 230,
     "metadata": {},
     "output_type": "execute_result"
    }
   ],
   "source": [
    "( etas[:,None,:] - xpixels[None,:,None] ).shape"
   ]
  },
  {
   "cell_type": "code",
   "execution_count": 232,
   "metadata": {},
   "outputs": [
    {
     "data": {
      "text/plain": [
       "(10000, 180, 200)"
      ]
     },
     "execution_count": 232,
     "metadata": {},
     "output_type": "execute_result"
    }
   ],
   "source": [
    "np.abs( etas[:,None,:] - xpixels[None,:,None] ).shape"
   ]
  },
  {
   "cell_type": "code",
   "execution_count": 235,
   "metadata": {
    "scrolled": true
   },
   "outputs": [
    {
     "data": {
      "text/plain": [
       "(10000, 200)"
      ]
     },
     "execution_count": 235,
     "metadata": {},
     "output_type": "execute_result"
    }
   ],
   "source": [
    "np.argmin( np.abs(etas[:,None,:] - xpixels[None,:,None] ), axis=1 ).shape"
   ]
  },
  {
   "cell_type": "code",
   "execution_count": 252,
   "metadata": {},
   "outputs": [
    {
     "data": {
      "text/plain": [
       "array([ 89,  91,  89,  90,  89,  90,  90,  90,  90,  89,  92,  88,  87,\n",
       "        89,  91,  89,  88,  84,  89,  99, 100,  74,  92, 120, 120, 120,\n",
       "       120, 120, 120, 120, 120, 120, 120, 120, 120, 120, 120, 120, 120,\n",
       "       120, 120, 120, 120, 120, 120, 120, 120, 120, 120, 120, 120, 120,\n",
       "       120, 120, 120, 120, 120, 120, 120, 120, 120, 120, 120, 120, 120,\n",
       "       120, 120, 120, 120, 120, 120, 120, 120, 120, 120, 120, 120, 120,\n",
       "       120, 120, 120, 120, 120, 120, 120, 120, 120, 120, 120, 120, 120,\n",
       "       120, 120, 120, 120, 120, 120, 120, 120, 120, 120, 120, 120, 120,\n",
       "       120, 120, 120, 120, 120, 120, 120, 120, 120, 120, 120, 120, 120,\n",
       "       120, 120, 120, 120, 120, 120, 120, 120, 120, 120, 120, 120, 120,\n",
       "       120, 120, 120, 120, 120, 120, 120, 120, 120, 120, 120, 120, 120,\n",
       "       120, 120, 120, 120, 120, 120, 120, 120, 120, 120, 120, 120, 120,\n",
       "       120, 120, 120, 120, 120, 120, 120, 120, 120, 120, 120, 120, 120,\n",
       "       120, 120, 120, 120, 120, 120, 120, 120, 120, 120, 120, 120, 120,\n",
       "       120, 120, 120, 120, 120, 120, 120, 120, 120, 120, 120, 120, 120,\n",
       "       120, 120, 120, 120, 120])"
      ]
     },
     "execution_count": 252,
     "metadata": {},
     "output_type": "execute_result"
    }
   ],
   "source": [
    "np.argmin( np.abs(etas[:,None,:] - xpixels[None,:,None] ), axis=1 )[0]"
   ]
  },
  {
   "cell_type": "code",
   "execution_count": 236,
   "metadata": {},
   "outputs": [
    {
     "data": {
      "text/plain": [
       "(10000, 200)"
      ]
     },
     "execution_count": 236,
     "metadata": {},
     "output_type": "execute_result"
    }
   ],
   "source": [
    "np.repeat( np.arange( etas.shape[0])[:,None], etas.shape[1], axis=1 ).shape"
   ]
  },
  {
   "cell_type": "code",
   "execution_count": 237,
   "metadata": {},
   "outputs": [
    {
     "data": {
      "text/plain": [
       "array([[   0,    0,    0, ...,    0,    0,    0],\n",
       "       [   1,    1,    1, ...,    1,    1,    1],\n",
       "       [   2,    2,    2, ...,    2,    2,    2],\n",
       "       ...,\n",
       "       [9997, 9997, 9997, ..., 9997, 9997, 9997],\n",
       "       [9998, 9998, 9998, ..., 9998, 9998, 9998],\n",
       "       [9999, 9999, 9999, ..., 9999, 9999, 9999]])"
      ]
     },
     "execution_count": 237,
     "metadata": {},
     "output_type": "execute_result"
    }
   ],
   "source": [
    "np.repeat( np.arange( etas.shape[0])[:,None], etas.shape[1], axis=1 )"
   ]
  },
  {
   "cell_type": "code",
   "execution_count": 247,
   "metadata": {},
   "outputs": [
    {
     "data": {
      "text/plain": [
       "(10000, 200)"
      ]
     },
     "execution_count": 247,
     "metadata": {},
     "output_type": "execute_result"
    }
   ],
   "source": [
    "in_grid_p = ~((etas < xpixels[0]) | (etas > xpixels[-1]) | (phis < ypixels[0]) | (phis > ypixels[-1]))\n",
    "in_grid_p.shape"
   ]
  },
  {
   "cell_type": "code",
   "execution_count": 248,
   "metadata": {},
   "outputs": [
    {
     "data": {
      "text/plain": [
       "(1882634,)"
      ]
     },
     "execution_count": 248,
     "metadata": {},
     "output_type": "execute_result"
    }
   ],
   "source": [
    "np.repeat( np.arange( etas.shape[0])[:,None], etas.shape[1], axis=1 )[in_grid_p]\n",
    "np.repeat( np.arange( etas.shape[0])[:,None], etas.shape[1], axis=1 )[in_grid_p].shape"
   ]
  },
  {
   "cell_type": "code",
   "execution_count": 253,
   "metadata": {},
   "outputs": [],
   "source": [
    "xcoords_p = np.argmin( np.abs( etas[:,None,:] - xpixels[None,:,None] ), axis=1 )\n",
    "ycoords_p = np.argmin( np.abs( phis[:,None,:] - ypixels[None,:,None] ), axis=1 )\n",
    "ncoords_p = np.repeat( np.arange( etas.shape[0])[:,None], etas.shape[1], axis=1 )\n",
    "z_p = np.zeros( ( etas.shape[0], len(xpixels), len(ypixels) ) )\n",
    "z_p[ ncoords_p[in_grid_p], ycoords_p[in_grid_p], xcoords_p[in_grid_p] ] = pT[in_grid_p]"
   ]
  },
  {
   "cell_type": "code",
   "execution_count": 254,
   "metadata": {},
   "outputs": [
    {
     "data": {
      "text/plain": [
       "(10000, 180, 180)"
      ]
     },
     "execution_count": 254,
     "metadata": {},
     "output_type": "execute_result"
    }
   ],
   "source": [
    "z_p.shape"
   ]
  },
  {
   "cell_type": "markdown",
   "metadata": {},
   "source": [
    "So to summarise we create the images (this is the lengthiest part of the process):"
   ]
  },
  {
   "cell_type": "code",
   "execution_count": 41,
   "metadata": {},
   "outputs": [],
   "source": [
    "z_ori = orig_image(etas, phis, pT)"
   ]
  },
  {
   "cell_type": "markdown",
   "metadata": {},
   "source": [
    "And we can now crop and normalise them:"
   ]
  },
  {
   "cell_type": "code",
   "execution_count": 42,
   "metadata": {},
   "outputs": [],
   "source": [
    "crop = True\n",
    "norm = True\n",
    "n_crop = 40\n",
    "z_new = np.zeros((z_ori.shape[0],n_crop, n_crop))\n",
    "for i in range(z_ori.shape[0]):\n",
    "    if crop:\n",
    "        Npix = z_ori[i,:,:].shape\n",
    "        z_new[i,:,:] = z_ori[i, int(Npix[0]/2-n_crop/2):int(Npix[0]/2+n_crop/2), int(Npix[1]/2-n_crop/2):int(Npix[1]/2+n_crop/2)]\n",
    "    else:\n",
    "        z_new = z_ori\n",
    "        if norm:\n",
    "            z_sum = z_new[i,:,:].sum()\n",
    "            if z_sum != 0.:\n",
    "                z_new[i,:,:] = z_new[i,:,:]/z_sum"
   ]
  },
  {
   "cell_type": "markdown",
   "metadata": {},
   "source": [
    "Let's again plot the first two jets:"
   ]
  },
  {
   "cell_type": "code",
   "execution_count": 43,
   "metadata": {},
   "outputs": [
    {
     "data": {
      "image/png": "[encoded data removed]",
      "text/plain": [
       "<Figure size 576x216 with 2 Axes>"
      ]
     },
     "metadata": {
      "needs_background": "light"
     },
     "output_type": "display_data"
    }
   ],
   "source": [
    "fig, axs = plt.subplots( 1, 2, figsize=(8,3) )\n",
    "axs[0].imshow( z_new[0], cmap='gist_heat_r' )\n",
    "axs[1].imshow( z_new[1], cmap='gist_heat_r' )\n",
    "fig.tight_layout()"
   ]
  },
  {
   "cell_type": "markdown",
   "metadata": {},
   "source": [
    "And the sum of all jets:"
   ]
  },
  {
   "cell_type": "code",
   "execution_count": 45,
   "metadata": {},
   "outputs": [
    {
     "data": {
      "image/png": "[encoded data removed]",
      "text/plain": [
       "<Figure size 576x216 with 1 Axes>"
      ]
     },
     "metadata": {
      "needs_background": "light"
     },
     "output_type": "display_data"
    }
   ],
   "source": [
    "z_ave = z_new[0]\n",
    "for i in z_new:\n",
    "    z_ave+=i\n",
    "fig, axs = plt.subplots( 1, 1, figsize=(8,3) )\n",
    "axs.imshow( z_ave, cmap='gist_heat_r' )\n",
    "fig.tight_layout()"
   ]
  },
  {
   "cell_type": "markdown",
   "metadata": {},
   "source": [
    "And now the average of all QCD (left) and top (right) jets:"
   ]
  },
  {
   "cell_type": "code",
   "execution_count": 47,
   "metadata": {},
   "outputs": [
    {
     "data": {
      "image/png": "[encoded data removed]",
      "text/plain": [
       "<Figure size 720x216 with 2 Axes>"
      ]
     },
     "metadata": {
      "needs_background": "light"
     },
     "output_type": "display_data"
    }
   ],
   "source": [
    "z_qcd_ave = z_new[isig.to_numpy()==0][0]\n",
    "for i in z_new[ isig.to_numpy()==0 ]:\n",
    "    z_qcd_ave+=i\n",
    "z_top_ave = z_new[isig.to_numpy()==1][0]\n",
    "for i in z_new[ isig.to_numpy()==1 ]:\n",
    "    z_top_ave+=i\n",
    "fig, axs = plt.subplots( 1, 2, figsize=(10,3) )\n",
    "axs[0].imshow( z_qcd_ave, cmap='gist_heat_r' )\n",
    "axs[1].imshow( z_top_ave, cmap='gist_heat_r' )\n",
    "fig.tight_layout()"
   ]
  },
  {
   "cell_type": "code",
   "execution_count": 300,
   "metadata": {},
   "outputs": [
    {
     "data": {
      "text/plain": [
       "10000"
      ]
     },
     "execution_count": 300,
     "metadata": {},
     "output_type": "execute_result"
    }
   ],
   "source": [
    "len(z_new)"
   ]
  },
  {
   "cell_type": "code",
   "execution_count": 301,
   "metadata": {},
   "outputs": [
    {
     "data": {
      "text/plain": [
       "4920"
      ]
     },
     "execution_count": 301,
     "metadata": {},
     "output_type": "execute_result"
    }
   ],
   "source": [
    "len(z_new[isig==0])"
   ]
  },
  {
   "cell_type": "code",
   "execution_count": 302,
   "metadata": {},
   "outputs": [
    {
     "data": {
      "text/plain": [
       "5080"
      ]
     },
     "execution_count": 302,
     "metadata": {},
     "output_type": "execute_result"
    }
   ],
   "source": [
    "len(z_new[isig==1])"
   ]
  },
  {
   "cell_type": "markdown",
   "metadata": {},
   "source": [
    "Let's try looking at the energy instead of the pT."
   ]
  },
  {
   "cell_type": "code",
   "execution_count": 303,
   "metadata": {},
   "outputs": [],
   "source": [
    "z_ori_E = orig_image(etas, phis, E)"
   ]
  },
  {
   "cell_type": "code",
   "execution_count": 304,
   "metadata": {},
   "outputs": [],
   "source": [
    "crop = True\n",
    "norm = True\n",
    "n_crop = 40\n",
    "z_new_E = np.zeros((z_ori_E.shape[0],n_crop, n_crop))\n",
    "for i in range(z_ori.shape[0]):\n",
    "    if crop:\n",
    "        Npix = z_ori_E[i,:,:].shape\n",
    "        z_new_E[i,:,:] = z_ori_E[i, int(Npix[0]/2-n_crop/2):int(Npix[0]/2+n_crop/2), int(Npix[1]/2-n_crop/2):int(Npix[1]/2+n_crop/2)]\n",
    "    else:\n",
    "        z_new_E = z_ori_E\n",
    "        if norm:\n",
    "            z_sum = z_new_E[i,:,:].sum()\n",
    "            if z_sum != 0.:\n",
    "                z_new_E[i,:,:] = z_new_E[i,:,:]/z_sum"
   ]
  },
  {
   "cell_type": "code",
   "execution_count": 305,
   "metadata": {},
   "outputs": [
    {
     "data": {
      "image/png": "[encoded data removed]",
      "text/plain": [
       "<Figure size 720x216 with 2 Axes>"
      ]
     },
     "metadata": {
      "needs_background": "light"
     },
     "output_type": "display_data"
    }
   ],
   "source": [
    "z_qcd_E_ave = z_new_E[isig==0][0]\n",
    "for i in z_new_E[ isig==0 ]:\n",
    "    z_qcd_E_ave+=i\n",
    "z_top_E_ave = z_new_E[isig==1][0]\n",
    "for i in z_new_E[ isig==1 ]:\n",
    "    z_top_E_ave+=i\n",
    "fig, axs = plt.subplots( 1, 2, figsize=(10,3) )\n",
    "axs[0].imshow( z_qcd_E_ave, cmap='gist_heat_r' )\n",
    "axs[1].imshow( z_top_E_ave, cmap='gist_heat_r' )\n",
    "fig.tight_layout()"
   ]
  },
  {
   "cell_type": "markdown",
   "metadata": {},
   "source": [
    "All of these steps are put together in the constit2img.py script in the repo (again, not written by me).  And here we can choose whether we want the weight (i.e. intensity) to be defined as the energy or the pT of the constituents."
   ]
  },
  {
   "cell_type": "markdown",
   "metadata": {},
   "source": [
    "#######################################\n",
    "\n",
    "#######################################\n",
    "\n",
    "#######################################\n",
    "\n",
    "#######################################"
   ]
  },
  {
   "cell_type": "markdown",
   "metadata": {},
   "source": [
    "Loading the images that have already been generated:"
   ]
  },
  {
   "cell_type": "code",
   "execution_count": 48,
   "metadata": {},
   "outputs": [],
   "source": [
    "h5path = \"toptagging_train_short_crop_rot_flip_norm_pt.h5\"\n",
    "df_pt = pd.read_hdf( h5path, key='table', start=0, stop=10000)\n",
    "h5path = \"toptagging_train_short_crop_rot_flip_norm_E.h5\"\n",
    "df_E = pd.read_hdf( h5path, key='table', start=0, stop=10000)"
   ]
  },
  {
   "cell_type": "markdown",
   "metadata": {},
   "source": [
    "Sum over all jets for signal and background separately, starting with the images using energy as intensity:"
   ]
  },
  {
   "cell_type": "code",
   "execution_count": 50,
   "metadata": {},
   "outputs": [
    {
     "data": {
      "text/plain": [
       "<matplotlib.image.AxesImage at 0x12100edf0>"
      ]
     },
     "execution_count": 50,
     "metadata": {},
     "output_type": "execute_result"
    },
    {
     "data": {
      "image/png": "[encoded data removed]",
      "text/plain": [
       "<Figure size 432x288 with 1 Axes>"
      ]
     },
     "metadata": {
      "needs_background": "light"
     },
     "output_type": "display_data"
    }
   ],
   "source": [
    "is_sig = df_E[\"is_signal_new\"]\n",
    "qcd_e_ave = np.zeros( (40,40) )\n",
    "for i in range( df_E[ is_sig==0 ].T.shape[1] ):\n",
    "    qcd_e_ave += df_E[ is_sig.to_numpy()==0 ].to_numpy()[i][0:1600].reshape( (40,40) )\n",
    "plt.imshow( qcd_e_ave )"
   ]
  },
  {
   "cell_type": "code",
   "execution_count": 51,
   "metadata": {},
   "outputs": [
    {
     "data": {
      "text/plain": [
       "<matplotlib.image.AxesImage at 0x1214f47c0>"
      ]
     },
     "execution_count": 51,
     "metadata": {},
     "output_type": "execute_result"
    },
    {
     "data": {
      "image/png": "[encoded data removed]",
      "text/plain": [
       "<Figure size 432x288 with 1 Axes>"
      ]
     },
     "metadata": {
      "needs_background": "light"
     },
     "output_type": "display_data"
    }
   ],
   "source": [
    "is_sig = df_E[\"is_signal_new\"]\n",
    "top_e_ave = np.zeros( (40,40) )\n",
    "for i in range( df_E[ is_sig==1 ].T.shape[1] ):\n",
    "    top_e_ave += df_E[ is_sig.to_numpy()==1 ].to_numpy()[i][0:1600].reshape( (40,40) )\n",
    "plt.imshow( top_e_ave )"
   ]
  },
  {
   "cell_type": "markdown",
   "metadata": {},
   "source": [
    "Produce and save a plot comparing the two:"
   ]
  },
  {
   "cell_type": "code",
   "execution_count": 52,
   "metadata": {},
   "outputs": [
    {
     "data": {
      "image/png": "[encoded data removed]",
      "text/plain": [
       "<Figure size 864x432 with 2 Axes>"
      ]
     },
     "metadata": {
      "needs_background": "light"
     },
     "output_type": "display_data"
    }
   ],
   "source": [
    "fig,axs = plt.subplots(1,2,figsize=(12,6))\n",
    "cmap = 'gist_heat_r'\n",
    "\n",
    "labelfont = FontProperties()\n",
    "labelfont.set_family('serif')\n",
    "labelfont.set_name('Times New Roman')\n",
    "labelfont.set_size(20)\n",
    "\n",
    "axislabelfont = FontProperties()\n",
    "axislabelfont.set_family('serif')\n",
    "axislabelfont.set_name('Times New Roman')\n",
    "axislabelfont.set_size(24)\n",
    "\n",
    "tickfont = FontProperties()\n",
    "tickfont.set_family('serif')\n",
    "tickfont.set_name('Times New Roman')\n",
    "tickfont.set_size(20)\n",
    "\n",
    "axisfontsize = 18\n",
    "labelfontsize = 18\n",
    "axs[0].imshow( qcd_e_ave, cmap=cmap )\n",
    "axs[1].imshow( top_e_ave, cmap=cmap )\n",
    "\n",
    "axs[0].text( 3, 37,  \"QCD, intensity=E\", va='bottom', ha='left', fontproperties=labelfont )\n",
    "axs[1].text( 3, 37,  \"top, intensity=E\", va='bottom', ha='left', fontproperties=labelfont )\n",
    "\n",
    "axs[0].set_yticks(range(0,40,5))\n",
    "axs[0].set_yticklabels(range(0,40,5), fontproperties=tickfont )\n",
    "axs[0].set_xticks(range(0,40,5))\n",
    "axs[0].set_xticklabels(range(0,40,5), fontproperties=tickfont )\n",
    "axs[1].set_xticks(range(0,40,5))\n",
    "axs[1].set_xticklabels(range(0,40,5), fontproperties=tickfont )\n",
    "axs[1].set_yticklabels([])\n",
    "\n",
    "axs[0].set_xlabel(\"$\\phi$\", fontproperties=axislabelfont)\n",
    "axs[1].set_xlabel(\"$\\phi$\", fontproperties=axislabelfont)\n",
    "axs[0].set_ylabel(\"$\\eta$\", fontproperties=axislabelfont)\n",
    "\n",
    "fig.tight_layout()\n",
    "\n",
    "#fig.savefig(\"qcd_top_ave_jet_images_inE.pdf\", bbox_inches = \"tight\")\n",
    "#fig.show()"
   ]
  },
  {
   "cell_type": "markdown",
   "metadata": {},
   "source": [
    "Now do the same for the images using the pt as the intensity:"
   ]
  },
  {
   "cell_type": "code",
   "execution_count": 53,
   "metadata": {},
   "outputs": [
    {
     "data": {
      "text/plain": [
       "<matplotlib.image.AxesImage at 0x121aa4100>"
      ]
     },
     "execution_count": 53,
     "metadata": {},
     "output_type": "execute_result"
    },
    {
     "data": {
      "image/png": "[encoded data removed]",
      "text/plain": [
       "<Figure size 432x288 with 1 Axes>"
      ]
     },
     "metadata": {
      "needs_background": "light"
     },
     "output_type": "display_data"
    }
   ],
   "source": [
    "is_sig = df_pt[\"is_signal_new\"]\n",
    "qcd_pt_ave = np.zeros( (40,40) )\n",
    "for i in range( df_pt[ is_sig==0 ].T.shape[1] ):\n",
    "    qcd_pt_ave += df_pt[ is_sig.to_numpy()==0 ].to_numpy()[i][0:1600].reshape( (40,40) )\n",
    "plt.imshow( qcd_pt_ave )"
   ]
  },
  {
   "cell_type": "code",
   "execution_count": 54,
   "metadata": {},
   "outputs": [
    {
     "data": {
      "text/plain": [
       "<matplotlib.image.AxesImage at 0x12199a280>"
      ]
     },
     "execution_count": 54,
     "metadata": {},
     "output_type": "execute_result"
    },
    {
     "data": {
      "image/png": "[encoded data removed]",
      "text/plain": [
       "<Figure size 432x288 with 1 Axes>"
      ]
     },
     "metadata": {
      "needs_background": "light"
     },
     "output_type": "display_data"
    }
   ],
   "source": [
    "is_sig = df_pt[\"is_signal_new\"]\n",
    "top_pt_ave = np.zeros( (40,40) )\n",
    "for i in range( df_pt[ is_sig==1 ].T.shape[1] ):\n",
    "    top_pt_ave += df_pt[ is_sig.to_numpy()==1 ].to_numpy()[i][0:1600].reshape( (40,40) )\n",
    "plt.imshow( top_pt_ave )"
   ]
  },
  {
   "cell_type": "code",
   "execution_count": 55,
   "metadata": {},
   "outputs": [
    {
     "data": {
      "image/png": "[encoded data removed]",
      "text/plain": [
       "<Figure size 864x432 with 2 Axes>"
      ]
     },
     "metadata": {
      "needs_background": "light"
     },
     "output_type": "display_data"
    }
   ],
   "source": [
    "fig,axs = plt.subplots(1,2,figsize=(12,6))\n",
    "cmap = 'gist_heat_r'\n",
    "\n",
    "labelfont = FontProperties()\n",
    "labelfont.set_family('serif')\n",
    "labelfont.set_name('Times New Roman')\n",
    "labelfont.set_size(20)\n",
    "\n",
    "axislabelfont = FontProperties()\n",
    "axislabelfont.set_family('serif')\n",
    "axislabelfont.set_name('Times New Roman')\n",
    "axislabelfont.set_size(24)\n",
    "\n",
    "tickfont = FontProperties()\n",
    "tickfont.set_family('serif')\n",
    "tickfont.set_name('Times New Roman')\n",
    "tickfont.set_size(20)\n",
    "\n",
    "axisfontsize = 18\n",
    "labelfontsize = 18\n",
    "axs[0].imshow( qcd_pt_ave, cmap=cmap )\n",
    "axs[1].imshow( top_pt_ave, cmap=cmap )\n",
    "\n",
    "axs[0].text( 3, 37,  \"QCD, intensity=pt\", va='bottom', ha='left', fontproperties=labelfont )\n",
    "axs[1].text( 3, 37,  \"top, intensity=pt\", va='bottom', ha='left', fontproperties=labelfont )\n",
    "\n",
    "axs[0].set_yticks(range(0,40,5))\n",
    "axs[0].set_yticklabels(range(0,40,5), fontproperties=tickfont )\n",
    "axs[0].set_xticks(range(0,40,5))\n",
    "axs[0].set_xticklabels(range(0,40,5), fontproperties=tickfont )\n",
    "axs[1].set_xticks(range(0,40,5))\n",
    "axs[1].set_xticklabels(range(0,40,5), fontproperties=tickfont )\n",
    "axs[1].set_yticklabels([])\n",
    "\n",
    "axs[0].set_xlabel(\"$\\phi$\", fontproperties=axislabelfont)\n",
    "axs[1].set_xlabel(\"$\\phi$\", fontproperties=axislabelfont)\n",
    "axs[0].set_ylabel(\"$\\eta$\", fontproperties=axislabelfont)\n",
    "\n",
    "fig.tight_layout()\n",
    "\n",
    "#fig.savefig(\"qcd_top_ave_jet_images_inpt.pdf\", bbox_inches = \"tight\")\n",
    "#fig.show()"
   ]
  },
  {
   "cell_type": "markdown",
   "metadata": {},
   "source": [
    "For an individual jet from QCD and tops we have:"
   ]
  },
  {
   "cell_type": "code",
   "execution_count": 56,
   "metadata": {},
   "outputs": [
    {
     "data": {
      "image/png": "[encoded data removed]",
      "text/plain": [
       "<Figure size 864x432 with 2 Axes>"
      ]
     },
     "metadata": {
      "needs_background": "light"
     },
     "output_type": "display_data"
    }
   ],
   "source": [
    "fig,axs = plt.subplots(1,2,figsize=(12,6))\n",
    "cmap = 'gist_heat_r'\n",
    "\n",
    "labelfont = FontProperties()\n",
    "labelfont.set_family('serif')\n",
    "labelfont.set_name('Times New Roman')\n",
    "labelfont.set_size(20)\n",
    "\n",
    "axislabelfont = FontProperties()\n",
    "axislabelfont.set_family('serif')\n",
    "axislabelfont.set_name('Times New Roman')\n",
    "axislabelfont.set_size(24)\n",
    "\n",
    "tickfont = FontProperties()\n",
    "tickfont.set_family('serif')\n",
    "tickfont.set_name('Times New Roman')\n",
    "tickfont.set_size(20)\n",
    "\n",
    "axisfontsize = 18\n",
    "labelfontsize = 18\n",
    "axs[0].imshow( df_pt[ is_sig.to_numpy()==0 ].to_numpy()[0][0:1600].reshape( (40,40) ), cmap=cmap )\n",
    "axs[1].imshow( df_pt[ is_sig.to_numpy()==1 ].to_numpy()[0][0:1600].reshape( (40,40) ), cmap=cmap )\n",
    "\n",
    "axs[0].text( 3, 37,  \"QCD, intensity=pt\", va='bottom', ha='left', fontproperties=labelfont )\n",
    "axs[1].text( 3, 37,  \"top, intensity=pt\", va='bottom', ha='left', fontproperties=labelfont )\n",
    "\n",
    "axs[0].set_yticks(range(0,40,5))\n",
    "axs[0].set_yticklabels(range(0,40,5), fontproperties=tickfont )\n",
    "axs[0].set_xticks(range(0,40,5))\n",
    "axs[0].set_xticklabels(range(0,40,5), fontproperties=tickfont )\n",
    "axs[1].set_xticks(range(0,40,5))\n",
    "axs[1].set_xticklabels(range(0,40,5), fontproperties=tickfont )\n",
    "axs[1].set_yticklabels([])\n",
    "\n",
    "axs[0].set_xlabel(\"$\\phi$\", fontproperties=axislabelfont)\n",
    "axs[1].set_xlabel(\"$\\phi$\", fontproperties=axislabelfont)\n",
    "axs[0].set_ylabel(\"$\\eta$\", fontproperties=axislabelfont)\n",
    "\n",
    "fig.tight_layout()\n",
    "\n",
    "#fig.savefig(\"qcd_top_ave_single_jet_images_inpt.pdf\", bbox_inches = \"tight\")\n",
    "#fig.show()"
   ]
  },
  {
   "cell_type": "markdown",
   "metadata": {},
   "source": [
    "I want to convert these h5 files to numpy arrays, with a labels file to indicate signal or background"
   ]
  },
  {
   "cell_type": "code",
   "execution_count": 75,
   "metadata": {},
   "outputs": [],
   "source": [
    "toptagging_jets_inpt_sb_50 = np.zeros((10000,1600))\n",
    "toptagging_labels_inpt_sb_50 = np.zeros(10000)\n",
    "toptagging_masses_inpt_sb_50 = np.zeros(10000)\n",
    "for i in range( df_pt.to_numpy().shape[1] ):\n",
    "    toptagging_jets_inpt_sb_50[i] = df_pt.to_numpy()[i][0:1600]\n",
    "    toptagging_labels_inpt_sb_50[i] = df_pt.to_numpy()[i][1600]\n",
    "    toptagging_masses_inpt_sb_50[i] = df_pt.to_numpy()[i][1601]"
   ]
  },
  {
   "cell_type": "code",
   "execution_count": 78,
   "metadata": {},
   "outputs": [
    {
     "data": {
      "text/plain": [
       "(array([  4.,  26., 130., 374., 203.,  37.,  20.,  16.,   3.,   2.]),\n",
       " array([ 92.27625275, 114.21332779, 136.15040283, 158.08747787,\n",
       "        180.02455292, 201.96162796, 223.898703  , 245.83577805,\n",
       "        267.77285309, 289.70992813, 311.64700317]),\n",
       " <BarContainer object of 10 artists>)"
      ]
     },
     "execution_count": 78,
     "metadata": {},
     "output_type": "execute_result"
    },
    {
     "data": {
      "image/png": "[encoded data removed]",
      "text/plain": [
       "<Figure size 432x288 with 1 Axes>"
      ]
     },
     "metadata": {
      "needs_background": "light"
     },
     "output_type": "display_data"
    }
   ],
   "source": [
    "plt.hist(toptagging_masses_inpt_sb_50[toptagging_labels_inpt_sb_50==1])"
   ]
  },
  {
   "cell_type": "code",
   "execution_count": null,
   "metadata": {},
   "outputs": [],
   "source": []
  }
 ],
 "metadata": {
  "kernelspec": {
   "display_name": "Python 3",
   "language": "python",
   "name": "python3"
  },
  "language_info": {
   "codemirror_mode": {
    "name": "ipython",
    "version": 3
   },
   "file_extension": ".py",
   "mimetype": "text/x-python",
   "name": "python",
   "nbconvert_exporter": "python",
   "pygments_lexer": "ipython3",
   "version": "3.8.2"
  }
 },
 "nbformat": 4,
 "nbformat_minor": 4
}
